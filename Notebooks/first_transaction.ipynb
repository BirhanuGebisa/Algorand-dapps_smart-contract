{
 "cells": [
  {
   "cell_type": "code",
   "execution_count": 1,
   "metadata": {},
   "outputs": [
    {
     "name": "stdout",
     "output_type": "stream",
     "text": [
      "My address: QWWVT6VAMOH7UPBWFD26NXYQKGAOBJXVVIXF47T2DCFGPZJTUBW4AABG5M\n",
      "My private key: ZWpSTtQkf3UyEiF018f23FFSfVAYw3n8lgc6jHl81AmFrVn6oGOP+jw2KPXm3xBRgOCm9aouXn56GIpn5TOgbQ==\n",
      "My passphrase: erosion endless cheese essence wrestle outer muscle canal update butter kiwi build pigeon butter secret seek monkey fossil adult senior vessel business exchange abandon nest\n"
     ]
    }
   ],
   "source": [
    "from algosdk import account, mnemonic\n",
    "\n",
    "private_key, address = account.generate_account()\n",
    "print(\"My address: {}\".format(address))\n",
    "print(\"My private key: {}\".format(private_key))\n",
    "print(\"My passphrase: {}\".format(mnemonic.from_private_key(private_key)))"
   ]
  },
  {
   "cell_type": "code",
   "execution_count": 2,
   "metadata": {},
   "outputs": [
    {
     "name": "stdout",
     "output_type": "stream",
     "text": [
      "Private key from mnemonic: LrEKSP07AqKxf5G4N1CBBZsc6IBNrzaW7GEw4yGZ+0jwR3oUFNy9rTb0AaYEbrbPUTNyzfRLUH8GXyH+oJzJZw==\n",
      "Public key from mnemonic: 6BDXUFAU3S622NXUAGTAI3VWZ5ITG4WN6RFVA7YGL4Q75IE4ZFT6GJWZOI\n"
     ]
    }
   ],
   "source": [
    "print(f\"Private key from mnemonic: {mnemonic.to_private_key('chair client piano save afford hammer work multiply warfare dolphin scheme raccoon decrease deliver hire quantum short rather couch credit duck town elephant able invite')}\")\n",
    "print(f\"Public key from mnemonic: {mnemonic.to_public_key('chair client piano save afford hammer work multiply warfare dolphin scheme raccoon decrease deliver hire quantum short rather couch credit duck town elephant able invite')}\")"
   ]
  },
  {
   "cell_type": "code",
   "execution_count": 7,
   "metadata": {},
   "outputs": [
    {
     "name": "stdout",
     "output_type": "stream",
     "text": [
      "Account balance: 0 microAlgos\n",
      "\n"
     ]
    }
   ],
   "source": [
    "account_info = algod_client.account_info(address)\n",
    "print(\"Account balance: {} microAlgos\".format(account_info.get('amount')) + \"\\n\")"
   ]
  },
  {
   "cell_type": "code",
   "execution_count": 9,
   "metadata": {},
   "outputs": [],
   "source": [
    "mnemo_2 = 'emerge quarter always side worry table glow twelve divorce prize income whisper knife brave mention bench monitor march wait throw glue cover photo abandon arctic'\n",
    "priv_2 = mnemonic.to_private_key(mnemo_2)\n",
    "pub_2 = mnemonic.to_public_key(mnemo_2)"
   ]
  },
  {
   "cell_type": "code",
   "execution_count": 10,
   "metadata": {},
   "outputs": [
    {
     "data": {
      "text/plain": [
       "'3QVNU6X57L35WGLR2WATU4XHRENJNWYSR54WVGQORYFSGM3JTTWISW6BLA'"
      ]
     },
     "execution_count": 10,
     "metadata": {},
     "output_type": "execute_result"
    }
   ],
   "source": [
    "pub_2"
   ]
  },
  {
   "cell_type": "code",
   "execution_count": 11,
   "metadata": {},
   "outputs": [],
   "source": [
    "from algosdk.v2client import algod\n",
    "\n",
    "algod_address = \"http://localhost:4001\"\n",
    "algod_token = \"aaaaaaaaaaaaaaaaaaaaaaaaaaaaaaaaaaaaaaaaaaaaaaaaaaaaaaaaaaaaaaaa\"\n",
    "algod_client = algod.AlgodClient(algod_token, algod_address)"
   ]
  },
  {
   "cell_type": "code",
   "execution_count": 12,
   "metadata": {},
   "outputs": [
    {
     "name": "stdout",
     "output_type": "stream",
     "text": [
      "Account balance: 4495000 microAlgos\n",
      "\n"
     ]
    }
   ],
   "source": [
    "account_info = algod_client.account_info(pub_2)\n",
    "print(\"Account balance: {} microAlgos\".format(account_info.get('amount')) + \"\\n\")"
   ]
  },
  {
   "cell_type": "code",
   "execution_count": 13,
   "metadata": {},
   "outputs": [],
   "source": [
    "# build transaction\n",
    "from algosdk.future import transaction\n",
    "from algosdk import constants\n",
    "\n",
    "\n",
    "params = algod_client.suggested_params()\n",
    "# comment out the next two (2) lines to use suggested fees\n",
    "params.flat_fee = True\n",
    "params.fee = constants.MIN_TXN_FEE \n",
    "receiver = address\n",
    "note = \"Hello World\".encode()\n",
    "amount = 1000000\n",
    "unsigned_txn = transaction.PaymentTxn(pub_2, params, receiver, amount, None, note)"
   ]
  },
  {
   "cell_type": "code",
   "execution_count": 14,
   "metadata": {},
   "outputs": [],
   "source": [
    "# sign transaction\n",
    "signed_txn = unsigned_txn.sign(priv_2)"
   ]
  },
  {
   "cell_type": "code",
   "execution_count": 15,
   "metadata": {},
   "outputs": [],
   "source": [
    "txid = algod_client.send_transaction(signed_txn)"
   ]
  },
  {
   "cell_type": "code",
   "execution_count": 16,
   "metadata": {},
   "outputs": [
    {
     "name": "stdout",
     "output_type": "stream",
     "text": [
      "Successfully sent transaction with txID: NQ6JNWZOFKG3FD5QTBDK5OH22JANFLOBLWNRBBRJ7GKBZISVKKXA\n",
      "Transaction information: {\n",
      "    \"confirmed-round\": 24488954,\n",
      "    \"pool-error\": \"\",\n",
      "    \"txn\": {\n",
      "        \"sig\": \"JHuOj6QYMM1pbom4y6C3vD934OrZhqdfaWSV7Xmj17yTzrkG2hVMzKnNsXiOISViLtm4l4a92XAr9ypQAGhABQ==\",\n",
      "        \"txn\": {\n",
      "            \"amt\": 1000000,\n",
      "            \"fee\": 1000,\n",
      "            \"fv\": 24488951,\n",
      "            \"gen\": \"testnet-v1.0\",\n",
      "            \"gh\": \"SGO1GKSzyE7IEPItTxCByw9x8FmnrCDexi9/cOUJOiI=\",\n",
      "            \"lv\": 24489951,\n",
      "            \"note\": \"SGVsbG8gV29ybGQ=\",\n",
      "            \"rcv\": \"QWWVT6VAMOH7UPBWFD26NXYQKGAOBJXVVIXF47T2DCFGPZJTUBW4AABG5M\",\n",
      "            \"snd\": \"3QVNU6X57L35WGLR2WATU4XHRENJNWYSR54WVGQORYFSGM3JTTWISW6BLA\",\n",
      "            \"type\": \"pay\"\n",
      "        }\n",
      "    }\n",
      "}\n",
      "Decoded note: Hello World\n",
      "Starting Account balance: 4495000 microAlgos\n",
      "Amount transfered: 1000000 microAlgos\n",
      "Fee: 1000 microAlgos\n",
      "Final Account balance: 3494000 microAlgos\n",
      "\n"
     ]
    }
   ],
   "source": [
    "import json\n",
    "import base64\n",
    "\n",
    "\n",
    "#submit transaction\n",
    "\n",
    "print(\"Successfully sent transaction with txID: {}\".format(txid))\n",
    "\n",
    "# wait for confirmation \n",
    "try:\n",
    "    confirmed_txn = transaction.wait_for_confirmation(algod_client, txid, 4)  \n",
    "except Exception as err:\n",
    "    print(err)\n",
    "    # return\n",
    "\n",
    "print(\"Transaction information: {}\".format(\n",
    "    json.dumps(confirmed_txn, indent=4)))\n",
    "print(\"Decoded note: {}\".format(base64.b64decode(\n",
    "    confirmed_txn[\"txn\"][\"txn\"][\"note\"]).decode()))\n",
    "print(\"Starting Account balance: {} microAlgos\".format(account_info.get('amount')) )\n",
    "print(\"Amount transfered: {} microAlgos\".format(amount) )    \n",
    "print(\"Fee: {} microAlgos\".format(params.fee) ) \n",
    "\n",
    "\n",
    "account_info = algod_client.account_info(pub_2)\n",
    "print(\"Final Account balance: {} microAlgos\".format(account_info.get('amount')) + \"\\n\")"
   ]
  },
  {
   "cell_type": "code",
   "execution_count": 17,
   "metadata": {},
   "outputs": [
    {
     "name": "stdout",
     "output_type": "stream",
     "text": [
      "Account balance: 1000000 microAlgos\n",
      "\n"
     ]
    }
   ],
   "source": [
    "account_info = algod_client.account_info(address)\n",
    "print(\"Account balance: {} microAlgos\".format(account_info.get('amount')) + \"\\n\")"
   ]
  },
  {
   "cell_type": "code",
   "execution_count": 18,
   "metadata": {},
   "outputs": [],
   "source": [
    "from algosdk.future.transaction import AssetConfigTxn, AssetTransferTxn, AssetFreezeTxn, wait_for_confirmation"
   ]
  },
  {
   "cell_type": "code",
   "execution_count": 19,
   "metadata": {},
   "outputs": [
    {
     "name": "stdout",
     "output_type": "stream",
     "text": [
      "Signed transaction with txID: ZN7XMSBB3RVXKUFANSRUJ4Q5I53FSS5UXTPGO2V3ZPNPQQWN5VCQ\n",
      "TXID:  ZN7XMSBB3RVXKUFANSRUJ4Q5I53FSS5UXTPGO2V3ZPNPQQWN5VCQ\n",
      "Result confirmed in round: 24488976\n",
      "Transaction information: {\n",
      "    \"asset-index\": 113929434,\n",
      "    \"confirmed-round\": 24488976,\n",
      "    \"pool-error\": \"\",\n",
      "    \"txn\": {\n",
      "        \"sig\": \"GlpKSAEu9ftxGugt3+djiHLH4PjCcorQG+e8ncppEeGFGmTt4GdDAEoswLbXT4j7cyCUwH7TZ6/KI89hoEbOAw==\",\n",
      "        \"txn\": {\n",
      "            \"apar\": {\n",
      "                \"an\": \"10_academy\",\n",
      "                \"au\": \"https://path/to/my/asset/details\",\n",
      "                \"c\": \"3QVNU6X57L35WGLR2WATU4XHRENJNWYSR54WVGQORYFSGM3JTTWISW6BLA\",\n",
      "                \"f\": \"3QVNU6X57L35WGLR2WATU4XHRENJNWYSR54WVGQORYFSGM3JTTWISW6BLA\",\n",
      "                \"m\": \"3QVNU6X57L35WGLR2WATU4XHRENJNWYSR54WVGQORYFSGM3JTTWISW6BLA\",\n",
      "                \"r\": \"3QVNU6X57L35WGLR2WATU4XHRENJNWYSR54WVGQORYFSGM3JTTWISW6BLA\",\n",
      "                \"t\": 1,\n",
      "                \"un\": \"10\"\n",
      "            },\n",
      "            \"fee\": 1000,\n",
      "            \"fv\": 24488973,\n",
      "            \"gen\": \"testnet-v1.0\",\n",
      "            \"gh\": \"SGO1GKSzyE7IEPItTxCByw9x8FmnrCDexi9/cOUJOiI=\",\n",
      "            \"lv\": 24489973,\n",
      "            \"snd\": \"3QVNU6X57L35WGLR2WATU4XHRENJNWYSR54WVGQORYFSGM3JTTWISW6BLA\",\n",
      "            \"type\": \"acfg\"\n",
      "        }\n",
      "    }\n",
      "}\n"
     ]
    }
   ],
   "source": [
    "# CREATE ASSET\n",
    "# Get network params for transactions before every transaction.\n",
    "params = algod_client.suggested_params()\n",
    "# comment these two lines if you want to use suggested params\n",
    "# params.fee = 1000\n",
    "# params.flat_fee = True\n",
    "# Account 1 creates an asset called latinum and\n",
    "# sets Account 2 as the manager, reserve, freeze, and clawback address.\n",
    "# Asset Creation transaction\n",
    "txn = AssetConfigTxn(\n",
    "    sender=pub_2,\n",
    "    sp=params,\n",
    "    total=1,\n",
    "    default_frozen=False,\n",
    "    unit_name=\"10\",\n",
    "    asset_name=\"10_academy\",\n",
    "    manager=pub_2,\n",
    "    reserve=pub_2,\n",
    "    freeze=pub_2,\n",
    "    clawback=pub_2,\n",
    "    url=\"https://path/to/my/asset/details\", \n",
    "    decimals=0)\n",
    "# Sign with secret key of creator\n",
    "stxn = txn.sign(priv_2)\n",
    "# Send the transaction to the network and retrieve the txid.\n",
    "try:\n",
    "    txid = algod_client.send_transaction(stxn)\n",
    "    print(\"Signed transaction with txID: {}\".format(txid))\n",
    "    # Wait for the transaction to be confirmed\n",
    "    confirmed_txn = wait_for_confirmation(algod_client, txid, 4)  \n",
    "    print(\"TXID: \", txid)\n",
    "    print(\"Result confirmed in round: {}\".format(confirmed_txn['confirmed-round']))   \n",
    "except Exception as err:\n",
    "    print(err)\n",
    "# Retrieve the asset ID of the newly created asset by first\n",
    "# ensuring that the creation transaction was confirmed,\n",
    "# then grabbing the asset id from the transaction.\n",
    "print(\"Transaction information: {}\".format(\n",
    "    json.dumps(confirmed_txn, indent=4)))\n",
    "# print(\"Decoded note: {}\".format(base64.b64decode(\n",
    "#     confirmed_txn[\"txn\"][\"txn\"][\"note\"]).decode()))\n"
   ]
  },
  {
   "cell_type": "code",
   "execution_count": null,
   "metadata": {},
   "outputs": [],
   "source": []
  }
 ],
 "metadata": {
  "kernelspec": {
   "display_name": "Python 3.8.13 ('venv')",
   "language": "python",
   "name": "python3"
  },
  "language_info": {
   "codemirror_mode": {
    "name": "ipython",
    "version": 3
   },
   "file_extension": ".py",
   "mimetype": "text/x-python",
   "name": "python",
   "nbconvert_exporter": "python",
   "pygments_lexer": "ipython3",
   "version": "3.8.13"
  },
  "orig_nbformat": 4,
  "vscode": {
   "interpreter": {
    "hash": "beb26789953ddcd0d4fafde83f340bee23aa0884c59e24dddb82f7574d20d741"
   }
  }
 },
 "nbformat": 4,
 "nbformat_minor": 2
}
